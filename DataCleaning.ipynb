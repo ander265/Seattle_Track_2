{
 "cells": [
  {
   "cell_type": "code",
   "execution_count": 14,
   "metadata": {},
   "outputs": [
    {
     "name": "stdout",
     "output_type": "stream",
     "text": [
      "MMSI,BaseDateTime,LAT,LON,SOG,COG,Heading,VesselName,IMO,CallSign,VesselType,Status,Length,Width,Draft,Cargo\r",
      "\r\n",
      "376494000,2017-12-01T00:00:03,30.28963,-116.73522,9.4,158.2,511.0,,,,,under way using engine,,,,\r",
      "\r\n",
      "366964020,2017-12-01T00:00:02,32.18853,-118.20766,9.5,22.9,511.0,,,,,,,,,\r",
      "\r\n",
      "367047120,2017-12-01T00:00:01,46.32643,-118.76383,8.4,26.3,24.0,REBEL,,WDC5832,1025,under way using engine,24.44,9.1,,\r",
      "\r\n",
      "367042740,2017-12-01T00:00:14,32.72405,-117.22603,0.0,-49.6,511.0,,,,,under way using engine,,,,\r",
      "\r\n",
      "367778000,2017-12-01T00:00:18,33.46477,-118.27461,8.9,192.8,511.0,,,,,,,,,\r",
      "\r\n",
      "477764600,2017-12-01T00:00:22,33.73680,-118.19172,0.2,89.8,90.0,COSCO PRIDE,IMO9472153,VRIV3,1004,moored,366,48.2,,\r",
      "\r\n",
      "338168899,2017-12-01T00:00:26,33.73092,-118.03531,0.0,-137.6,511.0,THE OTHER WOMAN,,,1019,,12.68,,,\r",
      "\r\n",
      "372241000,2017-12-01T00:00:29,33.74733,-118.27118,0.0,202.0,207.0,EVER STEADY,IMO9300439,3EHT6,1004,moored,299.99,42.8,,\r",
      "\r\n",
      "338208173,2017-12-01T00:00:33,33.97278,-118.45489,0.1,143.8,511.0,DOLPHIN,,,,,17.37,,,\r",
      "\r\n"
     ]
    }
   ],
   "source": [
    "!head Data/AIS_2017_12_Zone11/AIS_ASCII_by_UTM_Month/2017/AIS_2017_12_Zone11.csv"
   ]
  },
  {
   "cell_type": "code",
   "execution_count": 16,
   "metadata": {},
   "outputs": [],
   "source": [
    "import s3fs"
   ]
  },
  {
   "cell_type": "code",
   "execution_count": null,
   "metadata": {},
   "outputs": [],
   "source": []
  },
  {
   "cell_type": "code",
   "execution_count": null,
   "metadata": {},
   "outputs": [],
   "source": []
  }
 ],
 "metadata": {
  "kernelspec": {
   "display_name": "Python 3",
   "language": "python",
   "name": "python3"
  },
  "language_info": {
   "codemirror_mode": {
    "name": "ipython",
    "version": 3
   },
   "file_extension": ".py",
   "mimetype": "text/x-python",
   "name": "python",
   "nbconvert_exporter": "python",
   "pygments_lexer": "ipython3",
   "version": "3.6.5"
  }
 },
 "nbformat": 4,
 "nbformat_minor": 2
}
