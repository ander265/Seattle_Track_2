{
 "cells": [
  {
   "cell_type": "code",
   "execution_count": 1,
   "metadata": {},
   "outputs": [
    {
     "name": "stdout",
     "output_type": "stream",
     "text": [
      "AIS_2017_12_Zone11\r\n",
      "AIS_2017_12_Zone17\r\n",
      "AIS_2017_12_Zone18\r\n",
      "AIS_field_descriptions.json\r\n",
      "AIS_LA_SD_Jan_16_to_31_2016_Filtered_by_Proximity.csv\r\n",
      "AIS_LA_SD_Jan_1_to_15_2016_Filtered_by_Proximity.csv\r\n",
      "Caribbean_Dec_2017_UTM17_ProximityFiltered_File1.csv\r\n",
      "Caribbean_Dec_2017_UTM17_ProximityFiltered_File2.csv\r\n",
      "Caribbean_Dec_2017_UTM17_ProximityFiltered_File3.csv\r\n",
      "Example_COLREGs_Interactions_UTM11.csv\r\n",
      "get_data.py\r\n",
      "get_data.sh\r\n",
      "README.md\r\n"
     ]
    }
   ],
   "source": [
    "!ls Data/"
   ]
  },
  {
   "cell_type": "code",
   "execution_count": 2,
   "metadata": {},
   "outputs": [],
   "source": [
    "import pandas as pd"
   ]
  },
  {
   "cell_type": "code",
   "execution_count": 5,
   "metadata": {},
   "outputs": [],
   "source": [
    "#z11 = pd.read_csv('Data/AIS_2017_12_Zone11/AIS_ASCII_by_UTM_Month/2017/AIS_2017_12_Zone11.csv')\n",
    "z11 = pd.read_csv('AIS_2017_12_Zone11.zip',compression='zip')"
   ]
  },
  {
   "cell_type": "code",
   "execution_count": 6,
   "metadata": {},
   "outputs": [
    {
     "data": {
      "text/plain": [
       "Index(['MMSI', 'BaseDateTime', 'LAT', 'LON', 'SOG', 'COG', 'Heading',\n",
       "       'VesselName', 'IMO', 'CallSign', 'VesselType', 'Status', 'Length',\n",
       "       'Width', 'Draft', 'Cargo'],\n",
       "      dtype='object')"
      ]
     },
     "execution_count": 6,
     "metadata": {},
     "output_type": "execute_result"
    }
   ],
   "source": [
    "z11.columns"
   ]
  },
  {
   "cell_type": "code",
   "execution_count": 27,
   "metadata": {
    "scrolled": true
   },
   "outputs": [
    {
     "name": "stdout",
     "output_type": "stream",
     "text": [
      "﻿ID,MMSI_1,BaseDateTime_1,LAT_1,LON_1,SOG_1,COG_1,Heading_1,VesselName_1,IMO_1,CallSign_1,VesselType_1,Status_1,Length_1,Width_1,Draft_1,Cargo_1,MMSI_2,BaseDateTime_2,LAT_2,LON_2,SOG_2,COG_2,Heading_2,VesselName_2,IMO_2,CallSign_2,VesselType_2,Status_2,Length_2,Width_2,Draft_2,Cargo_2\r",
      "\r\n",
      "191885802,368350000,12/1/17 0:00,26.1151,-80.10811,0,-190.9,69,DIONE SUN,,,37,under way using engine,39,8,,,538070231,12/1/17 0:02,26.10283,-80.12517,0,-101.6,511,TOTO,,V7KE2,1019,under way using engine,,,,\r",
      "\r\n",
      "2312009273,366999791,12/1/17 0:00,25.77163,-80.14457,0,-131.4,146,CG HUDSON,,NCWX,1018,under way using engine,48.77,9.14,,,367653620,12/1/17 0:06,25.76568,-80.14984,0,111.8,359,PAYTON GRACE MORAN,IMO9778337,WDH7992,1025,under way using engine,28.18,,,\r",
      "\r\n",
      "808129839,319036500,12/1/17 0:00,26.13961,-80.10819,0,0,511,ZENITH,IMO1011458,ZGBR4,1019,under way using engine,40.5,10.7,,,367621350,12/1/17 0:03,26.11805,-80.14823,0,15.6,511,OH MY,,WDH4785,1019,,9.85,,,\r",
      "\r\n",
      "2166452686,339312000,12/1/17 0:00,26.09782,-80.1644,0,-161.9,511,TOUCH,IMO9091521,6YRQ7,1019,moored,36.5,7.62,,,367385990,12/1/17 0:03,26.0984,-80.16686,0,-177.4,511,SOUTHERN PEARL,,WDE6875,1019,under way using engine,19.08,5.7,,37\r",
      "\r\n",
      "2333667470,338084669,12/1/17 0:00,25.31068,-80.28812,0,-136.2,511,SARAH B,,,1019,undefined,17.68,,,,367610670,12/1/17 0:03,25.31244,-80.28012,0,0,511,CAVALIER,,WDH3765,1019,,17.86,,,\r",
      "\r\n",
      "3336880042,367381000,12/1/17 0:00,26.09117,-80.12305,0,-139.7,87,OVERSEAS NEW YORK,IMO9353541,WGEH,1024,moored,183.2,32.2,12.2,80,367760860,12/1/17 0:01,26.09338,-80.17174,0,-174.1,511,GRAND LEGACY,,WDJ2699,1019,under way using engine,24.02,7.2,,\r",
      "\r\n",
      "3890632745,319036500,12/1/17 0:00,26.13961,-80.10819,0,0,511,ZENITH,IMO1011458,ZGBR4,1019,under way using engine,40.5,10.7,,,367760890,12/1/17 0:00,26.08246,-80.11493,0,191.8,91,TRIDENT,IMO9812042,WDJ2703,1025,under way using engine,30.02,13.76,,\r",
      "\r\n",
      "248819320,338229401,12/1/17 0:00,25.7785,-80.18554,0,138.4,511,DIRTY LAUNDRY,,,1019,,,,,,538071195,12/1/17 0:04,25.78472,-80.17988,0,-111,511,ICE 5,IMO8659168,V7YS7,1019,moored,42.5,8.51,3.1,37\r",
      "\r\n",
      "1626658952,319022200,12/1/17 0:00,26.11316,-80.10982,0,-189.7,16,LA DOLCE VITA,,ZGCW6,1019,under way using engine,,,,37,367621350,12/1/17 0:03,26.11805,-80.14823,0,15.6,511,OH MY,,WDH4785,1019,,9.85,,,\r",
      "\r\n"
     ]
    }
   ],
   "source": [
    "!head Data/Caribbean_Dec_2017_UTM17_ProximityFiltered_File1.csv"
   ]
  },
  {
   "cell_type": "code",
   "execution_count": 6,
   "metadata": {},
   "outputs": [
    {
     "data": {
      "text/html": [
       "<div>\n",
       "<style scoped>\n",
       "    .dataframe tbody tr th:only-of-type {\n",
       "        vertical-align: middle;\n",
       "    }\n",
       "\n",
       "    .dataframe tbody tr th {\n",
       "        vertical-align: top;\n",
       "    }\n",
       "\n",
       "    .dataframe thead th {\n",
       "        text-align: right;\n",
       "    }\n",
       "</style>\n",
       "<table border=\"1\" class=\"dataframe\">\n",
       "  <thead>\n",
       "    <tr style=\"text-align: right;\">\n",
       "      <th></th>\n",
       "      <th>Description</th>\n",
       "      <th>Name</th>\n",
       "    </tr>\n",
       "  </thead>\n",
       "  <tbody>\n",
       "    <tr>\n",
       "      <th>0</th>\n",
       "      <td>This is a unique identifying number for the pa...</td>\n",
       "      <td>ID</td>\n",
       "    </tr>\n",
       "    <tr>\n",
       "      <th>1</th>\n",
       "      <td>This is the Maritime Mobile Service Identity o...</td>\n",
       "      <td>MMSI_1</td>\n",
       "    </tr>\n",
       "    <tr>\n",
       "      <th>2</th>\n",
       "      <td>Transmission time of the first vessel's AIS si...</td>\n",
       "      <td>BaseDateTime_1</td>\n",
       "    </tr>\n",
       "    <tr>\n",
       "      <th>3</th>\n",
       "      <td>Transmission time of the first vessel's AIS si...</td>\n",
       "      <td>Timestamp_1</td>\n",
       "    </tr>\n",
       "    <tr>\n",
       "      <th>4</th>\n",
       "      <td>Transmission time of the second vessel's AIS s...</td>\n",
       "      <td>Timestamp_2</td>\n",
       "    </tr>\n",
       "    <tr>\n",
       "      <th>5</th>\n",
       "      <td>This is the latitude of the first vessel.</td>\n",
       "      <td>LAT_1</td>\n",
       "    </tr>\n",
       "    <tr>\n",
       "      <th>6</th>\n",
       "      <td>This is the longitude of the first vessel.</td>\n",
       "      <td>LON_1</td>\n",
       "    </tr>\n",
       "    <tr>\n",
       "      <th>7</th>\n",
       "      <td>This is the speed over ground for the first ve...</td>\n",
       "      <td>SOG_1</td>\n",
       "    </tr>\n",
       "    <tr>\n",
       "      <th>8</th>\n",
       "      <td>This is the course over ground for the first v...</td>\n",
       "      <td>COG_1</td>\n",
       "    </tr>\n",
       "    <tr>\n",
       "      <th>9</th>\n",
       "      <td>This is the heading of the first vessel.</td>\n",
       "      <td>Heading_1</td>\n",
       "    </tr>\n",
       "    <tr>\n",
       "      <th>10</th>\n",
       "      <td>This is the name of the first vessel.</td>\n",
       "      <td>VesselName_1</td>\n",
       "    </tr>\n",
       "    <tr>\n",
       "      <th>11</th>\n",
       "      <td>This is the IMO number of the first vessel.</td>\n",
       "      <td>IMO_1</td>\n",
       "    </tr>\n",
       "    <tr>\n",
       "      <th>12</th>\n",
       "      <td>This is the call sign of the first vessel.</td>\n",
       "      <td>CallSign_1</td>\n",
       "    </tr>\n",
       "    <tr>\n",
       "      <th>13</th>\n",
       "      <td>This is the vessel type for the first vessel.</td>\n",
       "      <td>VesselType_1</td>\n",
       "    </tr>\n",
       "    <tr>\n",
       "      <th>14</th>\n",
       "      <td>This is the status of the first vessel.</td>\n",
       "      <td>Status_1</td>\n",
       "    </tr>\n",
       "    <tr>\n",
       "      <th>15</th>\n",
       "      <td>This is the length of the first vessel.</td>\n",
       "      <td>Length_1</td>\n",
       "    </tr>\n",
       "    <tr>\n",
       "      <th>16</th>\n",
       "      <td>This is the width of the first vessel.</td>\n",
       "      <td>Width_1</td>\n",
       "    </tr>\n",
       "    <tr>\n",
       "      <th>17</th>\n",
       "      <td>This is the draft of the first vessel.</td>\n",
       "      <td>Draft_1</td>\n",
       "    </tr>\n",
       "    <tr>\n",
       "      <th>18</th>\n",
       "      <td>This is the cargo code of the first vessel.</td>\n",
       "      <td>Cargo_1</td>\n",
       "    </tr>\n",
       "    <tr>\n",
       "      <th>19</th>\n",
       "      <td>This is the Maritime Mobile Service Identity o...</td>\n",
       "      <td>MMSI_2</td>\n",
       "    </tr>\n",
       "    <tr>\n",
       "      <th>20</th>\n",
       "      <td>This is the time of the second vessel's AIS tr...</td>\n",
       "      <td>BaseDateTime_2</td>\n",
       "    </tr>\n",
       "    <tr>\n",
       "      <th>21</th>\n",
       "      <td>This is the latitude of the second vessel.</td>\n",
       "      <td>LAT_2</td>\n",
       "    </tr>\n",
       "    <tr>\n",
       "      <th>22</th>\n",
       "      <td>This is the longitude of the second vessel.</td>\n",
       "      <td>LON_2</td>\n",
       "    </tr>\n",
       "    <tr>\n",
       "      <th>23</th>\n",
       "      <td>This is the speed over ground for the second v...</td>\n",
       "      <td>SOG_2</td>\n",
       "    </tr>\n",
       "    <tr>\n",
       "      <th>24</th>\n",
       "      <td>This is the course over ground for the second ...</td>\n",
       "      <td>COG_2</td>\n",
       "    </tr>\n",
       "    <tr>\n",
       "      <th>25</th>\n",
       "      <td>This is the heading of second vessel.</td>\n",
       "      <td>Heading_2</td>\n",
       "    </tr>\n",
       "    <tr>\n",
       "      <th>26</th>\n",
       "      <td>This is the name of the second vessel.</td>\n",
       "      <td>VesselName_2</td>\n",
       "    </tr>\n",
       "    <tr>\n",
       "      <th>27</th>\n",
       "      <td>This is the second vessel's IMO number.</td>\n",
       "      <td>IMO_2</td>\n",
       "    </tr>\n",
       "    <tr>\n",
       "      <th>28</th>\n",
       "      <td>This is the second vessel's call sign.</td>\n",
       "      <td>CallSign_2</td>\n",
       "    </tr>\n",
       "    <tr>\n",
       "      <th>29</th>\n",
       "      <td>This is the second vessel's vessel type.</td>\n",
       "      <td>VesselType_2</td>\n",
       "    </tr>\n",
       "    <tr>\n",
       "      <th>30</th>\n",
       "      <td>This is the second vessel's status.</td>\n",
       "      <td>Status_2</td>\n",
       "    </tr>\n",
       "    <tr>\n",
       "      <th>31</th>\n",
       "      <td>This is the second vessel's length.</td>\n",
       "      <td>Length_2</td>\n",
       "    </tr>\n",
       "    <tr>\n",
       "      <th>32</th>\n",
       "      <td>This is the second vessel's width.</td>\n",
       "      <td>Width_2</td>\n",
       "    </tr>\n",
       "    <tr>\n",
       "      <th>33</th>\n",
       "      <td>This is the second vessel's draft.</td>\n",
       "      <td>Draft_2</td>\n",
       "    </tr>\n",
       "    <tr>\n",
       "      <th>34</th>\n",
       "      <td>This is the second vessel's cargo code.</td>\n",
       "      <td>Cargo_2</td>\n",
       "    </tr>\n",
       "    <tr>\n",
       "      <th>35</th>\n",
       "      <td>This is vessel's UNIX timestamp rounded to the...</td>\n",
       "      <td>DateCode</td>\n",
       "    </tr>\n",
       "    <tr>\n",
       "      <th>36</th>\n",
       "      <td>This is vessel's first bounding box's latitude...</td>\n",
       "      <td>Box1_Lat</td>\n",
       "    </tr>\n",
       "    <tr>\n",
       "      <th>37</th>\n",
       "      <td>This is vessel's first bounding box's longitud...</td>\n",
       "      <td>Box1_Long</td>\n",
       "    </tr>\n",
       "    <tr>\n",
       "      <th>38</th>\n",
       "      <td>This is vessel's second bounding box's latitud...</td>\n",
       "      <td>Box2_Lat</td>\n",
       "    </tr>\n",
       "    <tr>\n",
       "      <th>39</th>\n",
       "      <td>This is vessel's second bounding box's longitu...</td>\n",
       "      <td>Box2_Long</td>\n",
       "    </tr>\n",
       "    <tr>\n",
       "      <th>40</th>\n",
       "      <td>This is vessel's third bounding box's latitude...</td>\n",
       "      <td>Box3_Lat</td>\n",
       "    </tr>\n",
       "    <tr>\n",
       "      <th>41</th>\n",
       "      <td>This is vessel's third bounding box's longitud...</td>\n",
       "      <td>Box3_Long</td>\n",
       "    </tr>\n",
       "    <tr>\n",
       "      <th>42</th>\n",
       "      <td>This is vessel's fourth bounding box's latitud...</td>\n",
       "      <td>Box4_Lat</td>\n",
       "    </tr>\n",
       "    <tr>\n",
       "      <th>43</th>\n",
       "      <td>This is vessel's fourth bounding box's longitu...</td>\n",
       "      <td>Box4_Long</td>\n",
       "    </tr>\n",
       "    <tr>\n",
       "      <th>44</th>\n",
       "      <td>This is the Maritime Mobile Service Identity o...</td>\n",
       "      <td>MMSI</td>\n",
       "    </tr>\n",
       "    <tr>\n",
       "      <th>45</th>\n",
       "      <td>This is the time of the vessel's AIS transmiss...</td>\n",
       "      <td>BaseDateTime</td>\n",
       "    </tr>\n",
       "    <tr>\n",
       "      <th>46</th>\n",
       "      <td>This is the latitude of the vessel.</td>\n",
       "      <td>LAT</td>\n",
       "    </tr>\n",
       "    <tr>\n",
       "      <th>47</th>\n",
       "      <td>This is the longitude of the vessel.</td>\n",
       "      <td>LON</td>\n",
       "    </tr>\n",
       "    <tr>\n",
       "      <th>48</th>\n",
       "      <td>This is the speed over ground for the vessel.</td>\n",
       "      <td>SOG</td>\n",
       "    </tr>\n",
       "    <tr>\n",
       "      <th>49</th>\n",
       "      <td>This is the course over ground for the vessel.</td>\n",
       "      <td>COG</td>\n",
       "    </tr>\n",
       "    <tr>\n",
       "      <th>50</th>\n",
       "      <td>This is the heading of the vessel.</td>\n",
       "      <td>Heading</td>\n",
       "    </tr>\n",
       "    <tr>\n",
       "      <th>51</th>\n",
       "      <td>This is the name of the vessel.</td>\n",
       "      <td>VesselName</td>\n",
       "    </tr>\n",
       "    <tr>\n",
       "      <th>52</th>\n",
       "      <td>This is the International Maritime Organizatio...</td>\n",
       "      <td>IMO</td>\n",
       "    </tr>\n",
       "    <tr>\n",
       "      <th>53</th>\n",
       "      <td>This is the call sign of the vessel.</td>\n",
       "      <td>CallSign</td>\n",
       "    </tr>\n",
       "    <tr>\n",
       "      <th>54</th>\n",
       "      <td>This is the vessel type.</td>\n",
       "      <td>VesselType</td>\n",
       "    </tr>\n",
       "    <tr>\n",
       "      <th>55</th>\n",
       "      <td>This is an optional status of the vessel.</td>\n",
       "      <td>Status</td>\n",
       "    </tr>\n",
       "    <tr>\n",
       "      <th>56</th>\n",
       "      <td>This is the length of the vessel.</td>\n",
       "      <td>Length</td>\n",
       "    </tr>\n",
       "    <tr>\n",
       "      <th>57</th>\n",
       "      <td>This is the width of the vessel.</td>\n",
       "      <td>Width</td>\n",
       "    </tr>\n",
       "    <tr>\n",
       "      <th>58</th>\n",
       "      <td>This is the draft of the vessel.</td>\n",
       "      <td>Draft</td>\n",
       "    </tr>\n",
       "    <tr>\n",
       "      <th>59</th>\n",
       "      <td>This is the cargo code of the vessel.</td>\n",
       "      <td>Cargo</td>\n",
       "    </tr>\n",
       "  </tbody>\n",
       "</table>\n",
       "</div>"
      ],
      "text/plain": [
       "                                          Description            Name\n",
       "0   This is a unique identifying number for the pa...              ID\n",
       "1   This is the Maritime Mobile Service Identity o...          MMSI_1\n",
       "2   Transmission time of the first vessel's AIS si...  BaseDateTime_1\n",
       "3   Transmission time of the first vessel's AIS si...     Timestamp_1\n",
       "4   Transmission time of the second vessel's AIS s...     Timestamp_2\n",
       "5           This is the latitude of the first vessel.           LAT_1\n",
       "6          This is the longitude of the first vessel.           LON_1\n",
       "7   This is the speed over ground for the first ve...           SOG_1\n",
       "8   This is the course over ground for the first v...           COG_1\n",
       "9            This is the heading of the first vessel.       Heading_1\n",
       "10              This is the name of the first vessel.    VesselName_1\n",
       "11        This is the IMO number of the first vessel.           IMO_1\n",
       "12         This is the call sign of the first vessel.      CallSign_1\n",
       "13      This is the vessel type for the first vessel.    VesselType_1\n",
       "14            This is the status of the first vessel.        Status_1\n",
       "15            This is the length of the first vessel.        Length_1\n",
       "16             This is the width of the first vessel.         Width_1\n",
       "17             This is the draft of the first vessel.         Draft_1\n",
       "18        This is the cargo code of the first vessel.         Cargo_1\n",
       "19  This is the Maritime Mobile Service Identity o...          MMSI_2\n",
       "20  This is the time of the second vessel's AIS tr...  BaseDateTime_2\n",
       "21         This is the latitude of the second vessel.           LAT_2\n",
       "22        This is the longitude of the second vessel.           LON_2\n",
       "23  This is the speed over ground for the second v...           SOG_2\n",
       "24  This is the course over ground for the second ...           COG_2\n",
       "25              This is the heading of second vessel.       Heading_2\n",
       "26             This is the name of the second vessel.    VesselName_2\n",
       "27            This is the second vessel's IMO number.           IMO_2\n",
       "28             This is the second vessel's call sign.      CallSign_2\n",
       "29           This is the second vessel's vessel type.    VesselType_2\n",
       "30                This is the second vessel's status.        Status_2\n",
       "31                This is the second vessel's length.        Length_2\n",
       "32                 This is the second vessel's width.         Width_2\n",
       "33                 This is the second vessel's draft.         Draft_2\n",
       "34            This is the second vessel's cargo code.         Cargo_2\n",
       "35  This is vessel's UNIX timestamp rounded to the...        DateCode\n",
       "36  This is vessel's first bounding box's latitude...        Box1_Lat\n",
       "37  This is vessel's first bounding box's longitud...       Box1_Long\n",
       "38  This is vessel's second bounding box's latitud...        Box2_Lat\n",
       "39  This is vessel's second bounding box's longitu...       Box2_Long\n",
       "40  This is vessel's third bounding box's latitude...        Box3_Lat\n",
       "41  This is vessel's third bounding box's longitud...       Box3_Long\n",
       "42  This is vessel's fourth bounding box's latitud...        Box4_Lat\n",
       "43  This is vessel's fourth bounding box's longitu...       Box4_Long\n",
       "44  This is the Maritime Mobile Service Identity o...            MMSI\n",
       "45  This is the time of the vessel's AIS transmiss...    BaseDateTime\n",
       "46                This is the latitude of the vessel.             LAT\n",
       "47               This is the longitude of the vessel.             LON\n",
       "48      This is the speed over ground for the vessel.             SOG\n",
       "49     This is the course over ground for the vessel.             COG\n",
       "50                 This is the heading of the vessel.         Heading\n",
       "51                    This is the name of the vessel.      VesselName\n",
       "52  This is the International Maritime Organizatio...             IMO\n",
       "53               This is the call sign of the vessel.        CallSign\n",
       "54                           This is the vessel type.      VesselType\n",
       "55          This is an optional status of the vessel.          Status\n",
       "56                  This is the length of the vessel.          Length\n",
       "57                   This is the width of the vessel.           Width\n",
       "58                   This is the draft of the vessel.           Draft\n",
       "59              This is the cargo code of the vessel.           Cargo"
      ]
     },
     "execution_count": 6,
     "metadata": {},
     "output_type": "execute_result"
    }
   ],
   "source": [
    "pd.read_json('Data/AIS_field_descriptions.json')"
   ]
  },
  {
   "cell_type": "code",
   "execution_count": 25,
   "metadata": {},
   "outputs": [],
   "source": [
    "c = pd.read_csv('Data/AIS_LA_SD_Jan_16_to_31_2016_Filtered_by_Proximity.csv')"
   ]
  },
  {
   "cell_type": "code",
   "execution_count": 12,
   "metadata": {},
   "outputs": [
    {
     "data": {
      "text/plain": [
       "Overtaking    8405\n",
       "Meeting       6730\n",
       "Crossing      5450\n",
       "Name: COLREG_Type, dtype: int64"
      ]
     },
     "execution_count": 12,
     "metadata": {},
     "output_type": "execute_result"
    }
   ],
   "source": [
    "pd.read_csv('Data/Example_COLREGs_Interactions_UTM11.csv')['COLREG_Type'].value_counts()"
   ]
  },
  {
   "cell_type": "code",
   "execution_count": 44,
   "metadata": {},
   "outputs": [],
   "source": [
    "agg=None"
   ]
  },
  {
   "cell_type": "code",
   "execution_count": 2,
   "metadata": {},
   "outputs": [],
   "source": [
    "import time\n",
    "import isodate\n",
    "import pandas as pd"
   ]
  },
  {
   "cell_type": "code",
   "execution_count": 49,
   "metadata": {},
   "outputs": [
    {
     "ename": "MemoryError",
     "evalue": "",
     "output_type": "error",
     "traceback": [
      "\u001b[0;31m---------------------------------------------------------------------------\u001b[0m",
      "\u001b[0;31mMemoryError\u001b[0m                               Traceback (most recent call last)",
      "\u001b[0;32m<ipython-input-49-033da11c3171>\u001b[0m in \u001b[0;36m<module>\u001b[0;34m()\u001b[0m\n\u001b[1;32m     14\u001b[0m \u001b[0;34m\u001b[0m\u001b[0m\n\u001b[1;32m     15\u001b[0m \u001b[0mz11\u001b[0m \u001b[0;34m=\u001b[0m \u001b[0;34m[\u001b[0m\u001b[0;34m]\u001b[0m\u001b[0;34m\u001b[0m\u001b[0m\n\u001b[0;32m---> 16\u001b[0;31m \u001b[0mz11\u001b[0m \u001b[0;34m=\u001b[0m \u001b[0minitialize_data\u001b[0m\u001b[0;34m(\u001b[0m\u001b[0;34m'AIS_2017_12_Zone11.zip'\u001b[0m\u001b[0;34m)\u001b[0m\u001b[0;34m\u001b[0m\u001b[0m\n\u001b[0m",
      "\u001b[0;32m<ipython-input-49-033da11c3171>\u001b[0m in \u001b[0;36minitialize_data\u001b[0;34m(filepath)\u001b[0m\n\u001b[1;32m      1\u001b[0m \u001b[0;32mdef\u001b[0m \u001b[0minitialize_data\u001b[0m\u001b[0;34m(\u001b[0m\u001b[0mfilepath\u001b[0m\u001b[0;34m)\u001b[0m\u001b[0;34m:\u001b[0m\u001b[0;34m\u001b[0m\u001b[0m\n\u001b[1;32m      2\u001b[0m     \u001b[0mstart\u001b[0m \u001b[0;34m=\u001b[0m \u001b[0mtime\u001b[0m\u001b[0;34m.\u001b[0m\u001b[0mtime\u001b[0m\u001b[0;34m(\u001b[0m\u001b[0;34m)\u001b[0m\u001b[0;34m\u001b[0m\u001b[0m\n\u001b[0;32m----> 3\u001b[0;31m     \u001b[0mdf\u001b[0m \u001b[0;34m=\u001b[0m \u001b[0mpd\u001b[0m\u001b[0;34m.\u001b[0m\u001b[0mread_csv\u001b[0m\u001b[0;34m(\u001b[0m\u001b[0mfilepath\u001b[0m\u001b[0;34m,\u001b[0m \u001b[0mcompression\u001b[0m\u001b[0;34m=\u001b[0m\u001b[0;34m'zip'\u001b[0m\u001b[0;34m)\u001b[0m\u001b[0;34m\u001b[0m\u001b[0m\n\u001b[0m\u001b[1;32m      4\u001b[0m     \u001b[0mdf\u001b[0m\u001b[0;34m.\u001b[0m\u001b[0mdrop\u001b[0m\u001b[0;34m(\u001b[0m\u001b[0;34m[\u001b[0m\u001b[0;34m'VesselName'\u001b[0m\u001b[0;34m,\u001b[0m\u001b[0;34m'IMO'\u001b[0m\u001b[0;34m,\u001b[0m\u001b[0;34m'CallSign'\u001b[0m\u001b[0;34m,\u001b[0m\u001b[0;34m'VesselType'\u001b[0m\u001b[0;34m,\u001b[0m\u001b[0;34m'Status'\u001b[0m\u001b[0;34m,\u001b[0m\u001b[0;34m'Length'\u001b[0m\u001b[0;34m,\u001b[0m\u001b[0;34m'Width'\u001b[0m\u001b[0;34m,\u001b[0m\u001b[0;34m'Draft'\u001b[0m\u001b[0;34m,\u001b[0m\u001b[0;34m'Cargo'\u001b[0m\u001b[0;34m,\u001b[0m\u001b[0;34m'LAT'\u001b[0m\u001b[0;34m,\u001b[0m\u001b[0;34m'LON'\u001b[0m\u001b[0;34m]\u001b[0m\u001b[0;34m,\u001b[0m \u001b[0maxis\u001b[0m\u001b[0;34m=\u001b[0m\u001b[0;36m1\u001b[0m\u001b[0;34m,\u001b[0m \u001b[0minplace\u001b[0m\u001b[0;34m=\u001b[0m\u001b[0;32mTrue\u001b[0m\u001b[0;34m)\u001b[0m\u001b[0;34m\u001b[0m\u001b[0m\n\u001b[1;32m      5\u001b[0m     \u001b[0mdf\u001b[0m\u001b[0;34m[\u001b[0m\u001b[0;34m'modified_COG'\u001b[0m\u001b[0;34m]\u001b[0m \u001b[0;34m=\u001b[0m \u001b[0mdf\u001b[0m\u001b[0;34m.\u001b[0m\u001b[0mCOG\u001b[0m\u001b[0;34m%\u001b[0m\u001b[0;36m360\u001b[0m\u001b[0;34m\u001b[0m\u001b[0m\n",
      "\u001b[0;32m~/anaconda3/envs/py36/lib/python3.6/site-packages/pandas/io/parsers.py\u001b[0m in \u001b[0;36mparser_f\u001b[0;34m(filepath_or_buffer, sep, delimiter, header, names, index_col, usecols, squeeze, prefix, mangle_dupe_cols, dtype, engine, converters, true_values, false_values, skipinitialspace, skiprows, nrows, na_values, keep_default_na, na_filter, verbose, skip_blank_lines, parse_dates, infer_datetime_format, keep_date_col, date_parser, dayfirst, iterator, chunksize, compression, thousands, decimal, lineterminator, quotechar, quoting, escapechar, comment, encoding, dialect, tupleize_cols, error_bad_lines, warn_bad_lines, skipfooter, doublequote, delim_whitespace, low_memory, memory_map, float_precision)\u001b[0m\n\u001b[1;32m    676\u001b[0m                     skip_blank_lines=skip_blank_lines)\n\u001b[1;32m    677\u001b[0m \u001b[0;34m\u001b[0m\u001b[0m\n\u001b[0;32m--> 678\u001b[0;31m         \u001b[0;32mreturn\u001b[0m \u001b[0m_read\u001b[0m\u001b[0;34m(\u001b[0m\u001b[0mfilepath_or_buffer\u001b[0m\u001b[0;34m,\u001b[0m \u001b[0mkwds\u001b[0m\u001b[0;34m)\u001b[0m\u001b[0;34m\u001b[0m\u001b[0m\n\u001b[0m\u001b[1;32m    679\u001b[0m \u001b[0;34m\u001b[0m\u001b[0m\n\u001b[1;32m    680\u001b[0m     \u001b[0mparser_f\u001b[0m\u001b[0;34m.\u001b[0m\u001b[0m__name__\u001b[0m \u001b[0;34m=\u001b[0m \u001b[0mname\u001b[0m\u001b[0;34m\u001b[0m\u001b[0m\n",
      "\u001b[0;32m~/anaconda3/envs/py36/lib/python3.6/site-packages/pandas/io/parsers.py\u001b[0m in \u001b[0;36m_read\u001b[0;34m(filepath_or_buffer, kwds)\u001b[0m\n\u001b[1;32m    444\u001b[0m \u001b[0;34m\u001b[0m\u001b[0m\n\u001b[1;32m    445\u001b[0m     \u001b[0;32mtry\u001b[0m\u001b[0;34m:\u001b[0m\u001b[0;34m\u001b[0m\u001b[0m\n\u001b[0;32m--> 446\u001b[0;31m         \u001b[0mdata\u001b[0m \u001b[0;34m=\u001b[0m \u001b[0mparser\u001b[0m\u001b[0;34m.\u001b[0m\u001b[0mread\u001b[0m\u001b[0;34m(\u001b[0m\u001b[0mnrows\u001b[0m\u001b[0;34m)\u001b[0m\u001b[0;34m\u001b[0m\u001b[0m\n\u001b[0m\u001b[1;32m    447\u001b[0m     \u001b[0;32mfinally\u001b[0m\u001b[0;34m:\u001b[0m\u001b[0;34m\u001b[0m\u001b[0m\n\u001b[1;32m    448\u001b[0m         \u001b[0mparser\u001b[0m\u001b[0;34m.\u001b[0m\u001b[0mclose\u001b[0m\u001b[0;34m(\u001b[0m\u001b[0;34m)\u001b[0m\u001b[0;34m\u001b[0m\u001b[0m\n",
      "\u001b[0;32m~/anaconda3/envs/py36/lib/python3.6/site-packages/pandas/io/parsers.py\u001b[0m in \u001b[0;36mread\u001b[0;34m(self, nrows)\u001b[0m\n\u001b[1;32m   1034\u001b[0m                 \u001b[0;32mraise\u001b[0m \u001b[0mValueError\u001b[0m\u001b[0;34m(\u001b[0m\u001b[0;34m'skipfooter not supported for iteration'\u001b[0m\u001b[0;34m)\u001b[0m\u001b[0;34m\u001b[0m\u001b[0m\n\u001b[1;32m   1035\u001b[0m \u001b[0;34m\u001b[0m\u001b[0m\n\u001b[0;32m-> 1036\u001b[0;31m         \u001b[0mret\u001b[0m \u001b[0;34m=\u001b[0m \u001b[0mself\u001b[0m\u001b[0;34m.\u001b[0m\u001b[0m_engine\u001b[0m\u001b[0;34m.\u001b[0m\u001b[0mread\u001b[0m\u001b[0;34m(\u001b[0m\u001b[0mnrows\u001b[0m\u001b[0;34m)\u001b[0m\u001b[0;34m\u001b[0m\u001b[0m\n\u001b[0m\u001b[1;32m   1037\u001b[0m \u001b[0;34m\u001b[0m\u001b[0m\n\u001b[1;32m   1038\u001b[0m         \u001b[0;31m# May alter columns / col_dict\u001b[0m\u001b[0;34m\u001b[0m\u001b[0;34m\u001b[0m\u001b[0m\n",
      "\u001b[0;32m~/anaconda3/envs/py36/lib/python3.6/site-packages/pandas/io/parsers.py\u001b[0m in \u001b[0;36mread\u001b[0;34m(self, nrows)\u001b[0m\n\u001b[1;32m   1846\u001b[0m     \u001b[0;32mdef\u001b[0m \u001b[0mread\u001b[0m\u001b[0;34m(\u001b[0m\u001b[0mself\u001b[0m\u001b[0;34m,\u001b[0m \u001b[0mnrows\u001b[0m\u001b[0;34m=\u001b[0m\u001b[0;32mNone\u001b[0m\u001b[0;34m)\u001b[0m\u001b[0;34m:\u001b[0m\u001b[0;34m\u001b[0m\u001b[0m\n\u001b[1;32m   1847\u001b[0m         \u001b[0;32mtry\u001b[0m\u001b[0;34m:\u001b[0m\u001b[0;34m\u001b[0m\u001b[0m\n\u001b[0;32m-> 1848\u001b[0;31m             \u001b[0mdata\u001b[0m \u001b[0;34m=\u001b[0m \u001b[0mself\u001b[0m\u001b[0;34m.\u001b[0m\u001b[0m_reader\u001b[0m\u001b[0;34m.\u001b[0m\u001b[0mread\u001b[0m\u001b[0;34m(\u001b[0m\u001b[0mnrows\u001b[0m\u001b[0;34m)\u001b[0m\u001b[0;34m\u001b[0m\u001b[0m\n\u001b[0m\u001b[1;32m   1849\u001b[0m         \u001b[0;32mexcept\u001b[0m \u001b[0mStopIteration\u001b[0m\u001b[0;34m:\u001b[0m\u001b[0;34m\u001b[0m\u001b[0m\n\u001b[1;32m   1850\u001b[0m             \u001b[0;32mif\u001b[0m \u001b[0mself\u001b[0m\u001b[0;34m.\u001b[0m\u001b[0m_first_chunk\u001b[0m\u001b[0;34m:\u001b[0m\u001b[0;34m\u001b[0m\u001b[0m\n",
      "\u001b[0;32mpandas/_libs/parsers.pyx\u001b[0m in \u001b[0;36mpandas._libs.parsers.TextReader.read\u001b[0;34m()\u001b[0m\n",
      "\u001b[0;32mpandas/_libs/parsers.pyx\u001b[0m in \u001b[0;36mpandas._libs.parsers.TextReader._read_low_memory\u001b[0;34m()\u001b[0m\n",
      "\u001b[0;32mpandas/_libs/parsers.pyx\u001b[0m in \u001b[0;36mpandas._libs.parsers._concatenate_chunks\u001b[0;34m()\u001b[0m\n",
      "\u001b[0;31mMemoryError\u001b[0m: "
     ]
    }
   ],
   "source": [
    "def initialize_data(filepath):\n",
    "    start = time.time()\n",
    "    df = pd.read_csv(filepath, compression='zip')\n",
    "    df.drop(['VesselName','IMO','CallSign','VesselType','Status','Length','Width','Draft','Cargo','LAT','LON'], axis=1, inplace=True)\n",
    "    df['modified_COG'] = df.COG%360\n",
    "    df.drop(['COG'], axis=1, inplace=True)\n",
    "    df.set_index('MMSI',inplace=True)\n",
    "    df['BaseDateTime'] = pd.to_datetime(df['BaseDateTime'])\n",
    "    df = df.groupby(['MMSI','BaseDateTime']).sum()\n",
    "    end = time.time()\n",
    "    print('Data Loaded.  Time: '+str(round(end-start,2)))\n",
    "    return df\n",
    "\n",
    "\n",
    "z11 = []\n",
    "z11 = initialize_data('AIS_2017_12_Zone11.zip')"
   ]
  },
  {
   "cell_type": "code",
   "execution_count": 40,
   "metadata": {},
   "outputs": [],
   "source": [
    "z11.to_csv('time_series.csv')"
   ]
  },
  {
   "cell_type": "code",
   "execution_count": 4,
   "metadata": {},
   "outputs": [],
   "source": [
    "z11 = pd.read_csv('time_series(iso8061).csv')"
   ]
  },
  {
   "cell_type": "code",
   "execution_count": 41,
   "metadata": {},
   "outputs": [
    {
     "name": "stdout",
     "output_type": "stream",
     "text": [
      "head: cannot open 'time_series.csv' for reading: No such file or directory\r\n"
     ]
    }
   ],
   "source": [
    "!head time_series.csv"
   ]
  },
  {
   "cell_type": "code",
   "execution_count": 6,
   "metadata": {},
   "outputs": [],
   "source": [
    "z11['BaseDateTime'] = pd.to_datetime(z11.reset_index()['BaseDateTime'])"
   ]
  },
  {
   "cell_type": "code",
   "execution_count": 35,
   "metadata": {},
   "outputs": [],
   "source": [
    "#z11 = z11.iloc[:,1:]\n",
    "#z11['BaseDateTime'] = pd.to_datetime(z11['BaseDateTime'].str[5:7,-8:], format='%X')"
   ]
  },
  {
   "cell_type": "code",
   "execution_count": null,
   "metadata": {},
   "outputs": [],
   "source": [
    "z11 = agg.copy()"
   ]
  },
  {
   "cell_type": "code",
   "execution_count": 7,
   "metadata": {},
   "outputs": [
    {
     "data": {
      "text/html": [
       "<div>\n",
       "<style scoped>\n",
       "    .dataframe tbody tr th:only-of-type {\n",
       "        vertical-align: middle;\n",
       "    }\n",
       "\n",
       "    .dataframe tbody tr th {\n",
       "        vertical-align: top;\n",
       "    }\n",
       "\n",
       "    .dataframe thead th {\n",
       "        text-align: right;\n",
       "    }\n",
       "</style>\n",
       "<table border=\"1\" class=\"dataframe\">\n",
       "  <thead>\n",
       "    <tr style=\"text-align: right;\">\n",
       "      <th></th>\n",
       "      <th>MMSI</th>\n",
       "      <th>BaseDateTime</th>\n",
       "      <th>SOG</th>\n",
       "      <th>Heading</th>\n",
       "      <th>modified_COG</th>\n",
       "    </tr>\n",
       "  </thead>\n",
       "  <tbody>\n",
       "    <tr>\n",
       "      <th>0</th>\n",
       "      <td>36751860</td>\n",
       "      <td>2017-12-16 19:40:29</td>\n",
       "      <td>0.0</td>\n",
       "      <td>511.0</td>\n",
       "      <td>67.8</td>\n",
       "    </tr>\n",
       "    <tr>\n",
       "      <th>1</th>\n",
       "      <td>36751860</td>\n",
       "      <td>2017-12-16 19:43:29</td>\n",
       "      <td>0.0</td>\n",
       "      <td>511.0</td>\n",
       "      <td>34.2</td>\n",
       "    </tr>\n",
       "    <tr>\n",
       "      <th>2</th>\n",
       "      <td>36751860</td>\n",
       "      <td>2017-12-16 19:46:30</td>\n",
       "      <td>0.0</td>\n",
       "      <td>511.0</td>\n",
       "      <td>310.2</td>\n",
       "    </tr>\n",
       "    <tr>\n",
       "      <th>3</th>\n",
       "      <td>36751860</td>\n",
       "      <td>2017-12-16 19:55:32</td>\n",
       "      <td>0.0</td>\n",
       "      <td>511.0</td>\n",
       "      <td>272.3</td>\n",
       "    </tr>\n",
       "    <tr>\n",
       "      <th>4</th>\n",
       "      <td>36751860</td>\n",
       "      <td>2017-12-16 19:58:30</td>\n",
       "      <td>0.0</td>\n",
       "      <td>511.0</td>\n",
       "      <td>273.4</td>\n",
       "    </tr>\n",
       "  </tbody>\n",
       "</table>\n",
       "</div>"
      ],
      "text/plain": [
       "       MMSI        BaseDateTime  SOG  Heading  modified_COG\n",
       "0  36751860 2017-12-16 19:40:29  0.0    511.0          67.8\n",
       "1  36751860 2017-12-16 19:43:29  0.0    511.0          34.2\n",
       "2  36751860 2017-12-16 19:46:30  0.0    511.0         310.2\n",
       "3  36751860 2017-12-16 19:55:32  0.0    511.0         272.3\n",
       "4  36751860 2017-12-16 19:58:30  0.0    511.0         273.4"
      ]
     },
     "execution_count": 7,
     "metadata": {},
     "output_type": "execute_result"
    }
   ],
   "source": [
    "z11.head()"
   ]
  },
  {
   "cell_type": "code",
   "execution_count": 4,
   "metadata": {},
   "outputs": [],
   "source": [
    "z11.to_csv('time_series.csv')\n",
    "z11 = pd.read_csv('time_series.csv')"
   ]
  },
  {
   "cell_type": "code",
   "execution_count": 10,
   "metadata": {},
   "outputs": [],
   "source": [
    "agg = z11.groupby(['MMSI','BaseDateTime']).sum()"
   ]
  },
  {
   "cell_type": "code",
   "execution_count": 12,
   "metadata": {},
   "outputs": [],
   "source": [
    "agg.to_csv('multi-index_time_series.csv')"
   ]
  },
  {
   "cell_type": "code",
   "execution_count": 13,
   "metadata": {},
   "outputs": [
    {
     "name": "stdout",
     "output_type": "stream",
     "text": [
      "MMSI,BaseDateTime,SOG,Heading,modified_COG\r\n",
      "36751860,18:37:29,0.8,511.0,89.4\r\n",
      "36751860,18:39:20,2.9,511.0,95.0\r\n",
      "36751860,18:40:42,4.3,511.0,115.6\r\n",
      "36751860,18:42:14,4.6,511.0,170.2\r\n",
      "36751860,18:43:15,4.6,511.0,178.7\r\n",
      "36751860,18:44:42,4.7,511.0,177.9\r\n",
      "36751860,18:45:43,4.7,511.0,183.2\r\n",
      "36751860,18:47:12,5.6,511.0,159.3\r\n",
      "36751860,18:48:13,5.6,511.0,157.8\r\n"
     ]
    }
   ],
   "source": [
    "!head multi-index_time_series.csv"
   ]
  },
  {
   "cell_type": "code",
   "execution_count": 7,
   "metadata": {},
   "outputs": [],
   "source": [
    "agg = pd.read_csv('multi-index_time_series.csv')"
   ]
  }
 ],
 "metadata": {
  "kernelspec": {
   "display_name": "Python 3",
   "language": "python",
   "name": "python3"
  },
  "language_info": {
   "codemirror_mode": {
    "name": "ipython",
    "version": 3
   },
   "file_extension": ".py",
   "mimetype": "text/x-python",
   "name": "python",
   "nbconvert_exporter": "python",
   "pygments_lexer": "ipython3",
   "version": "3.6.5"
  }
 },
 "nbformat": 4,
 "nbformat_minor": 2
}
