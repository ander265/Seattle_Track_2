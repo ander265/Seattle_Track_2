{
 "cells": [
  {
   "cell_type": "code",
   "execution_count": 19,
   "metadata": {},
   "outputs": [],
   "source": [
    "import time\n",
    "import pandas as pd\n",
    "import matplotlib.pyplot as plt\n",
    "%matplotlib inline\n",
    "from lifelines.datasets import load_rossi\n",
    "from lifelines import CoxPHFitter"
   ]
  },
  {
   "cell_type": "code",
   "execution_count": null,
   "metadata": {},
   "outputs": [],
   "source": [
    "rossi_dataset = load_rossi()"
   ]
  },
  {
   "cell_type": "code",
   "execution_count": 13,
   "metadata": {},
   "outputs": [
    {
     "data": {
      "text/html": [
       "<div>\n",
       "<style scoped>\n",
       "    .dataframe tbody tr th:only-of-type {\n",
       "        vertical-align: middle;\n",
       "    }\n",
       "\n",
       "    .dataframe tbody tr th {\n",
       "        vertical-align: top;\n",
       "    }\n",
       "\n",
       "    .dataframe thead th {\n",
       "        text-align: right;\n",
       "    }\n",
       "</style>\n",
       "<table border=\"1\" class=\"dataframe\">\n",
       "  <thead>\n",
       "    <tr style=\"text-align: right;\">\n",
       "      <th></th>\n",
       "      <th>week</th>\n",
       "      <th>arrest</th>\n",
       "      <th>fin</th>\n",
       "      <th>age</th>\n",
       "      <th>race</th>\n",
       "      <th>wexp</th>\n",
       "      <th>mar</th>\n",
       "      <th>paro</th>\n",
       "      <th>prio</th>\n",
       "    </tr>\n",
       "  </thead>\n",
       "  <tbody>\n",
       "    <tr>\n",
       "      <th>0</th>\n",
       "      <td>20</td>\n",
       "      <td>1</td>\n",
       "      <td>0</td>\n",
       "      <td>27</td>\n",
       "      <td>1</td>\n",
       "      <td>0</td>\n",
       "      <td>0</td>\n",
       "      <td>1</td>\n",
       "      <td>3</td>\n",
       "    </tr>\n",
       "    <tr>\n",
       "      <th>1</th>\n",
       "      <td>17</td>\n",
       "      <td>1</td>\n",
       "      <td>0</td>\n",
       "      <td>18</td>\n",
       "      <td>1</td>\n",
       "      <td>0</td>\n",
       "      <td>0</td>\n",
       "      <td>1</td>\n",
       "      <td>8</td>\n",
       "    </tr>\n",
       "    <tr>\n",
       "      <th>2</th>\n",
       "      <td>25</td>\n",
       "      <td>1</td>\n",
       "      <td>0</td>\n",
       "      <td>19</td>\n",
       "      <td>0</td>\n",
       "      <td>1</td>\n",
       "      <td>0</td>\n",
       "      <td>1</td>\n",
       "      <td>13</td>\n",
       "    </tr>\n",
       "    <tr>\n",
       "      <th>3</th>\n",
       "      <td>52</td>\n",
       "      <td>0</td>\n",
       "      <td>1</td>\n",
       "      <td>23</td>\n",
       "      <td>1</td>\n",
       "      <td>1</td>\n",
       "      <td>1</td>\n",
       "      <td>1</td>\n",
       "      <td>1</td>\n",
       "    </tr>\n",
       "    <tr>\n",
       "      <th>4</th>\n",
       "      <td>52</td>\n",
       "      <td>0</td>\n",
       "      <td>0</td>\n",
       "      <td>19</td>\n",
       "      <td>0</td>\n",
       "      <td>1</td>\n",
       "      <td>0</td>\n",
       "      <td>1</td>\n",
       "      <td>3</td>\n",
       "    </tr>\n",
       "  </tbody>\n",
       "</table>\n",
       "</div>"
      ],
      "text/plain": [
       "   week  arrest  fin  age  race  wexp  mar  paro  prio\n",
       "0    20       1    0   27     1     0    0     1     3\n",
       "1    17       1    0   18     1     0    0     1     8\n",
       "2    25       1    0   19     0     1    0     1    13\n",
       "3    52       0    1   23     1     1    1     1     1\n",
       "4    52       0    0   19     0     1    0     1     3"
      ]
     },
     "execution_count": 13,
     "metadata": {},
     "output_type": "execute_result"
    }
   ],
   "source": [
    "rossi_dataset.head()"
   ]
  },
  {
   "cell_type": "code",
   "execution_count": 6,
   "metadata": {},
   "outputs": [
    {
     "name": "stdout",
     "output_type": "stream",
     "text": [
      "Iteration 1: norm_delta = 0.48337, step_size = 0.95000, ll = -675.38063, seconds_since_start = 0.0\n",
      "Iteration 2: norm_delta = 0.13160, step_size = 0.95000, ll = -659.79004, seconds_since_start = 0.0\n",
      "Iteration 3: norm_delta = 0.01712, step_size = 0.95000, ll = -658.76197, seconds_since_start = 0.1\n",
      "Iteration 4: norm_delta = 0.00103, step_size = 0.95000, ll = -658.74771, seconds_since_start = 0.1\n",
      "Iteration 5: norm_delta = 0.00005, step_size = 0.95000, ll = -658.74766, seconds_since_start = 0.1\n",
      "Iteration 6: norm_delta = 0.00000, step_size = 0.95000, ll = -658.74766, seconds_since_start = 0.1\n",
      "Convergence completed after 6 iterations.\n",
      "n=432, number of events=114\n",
      "\n",
      "        coef  exp(coef)  se(coef)       z      p  lower 0.95  upper 0.95    \n",
      "fin  -0.3794     0.6843    0.1914 -1.9826 0.0474     -0.7545     -0.0043   *\n",
      "age  -0.0574     0.9442    0.0220 -2.6109 0.0090     -0.1006     -0.0143  **\n",
      "race  0.3139     1.3688    0.3080  1.0192 0.3081     -0.2898      0.9176    \n",
      "wexp -0.1498     0.8609    0.2122 -0.7058 0.4803     -0.5657      0.2662    \n",
      "mar  -0.4337     0.6481    0.3819 -1.1357 0.2561     -1.1822      0.3147    \n",
      "paro -0.0849     0.9186    0.1958 -0.4336 0.6646     -0.4685      0.2988    \n",
      "prio  0.0915     1.0958    0.0286  3.1938 0.0014      0.0353      0.1476  **\n",
      "---\n",
      "Signif. codes:  0 '***' 0.001 '**' 0.01 '*' 0.05 '.' 0.1 ' ' 1 \n",
      "\n",
      "Concordance = 0.640\n",
      "Likelihood ratio test = 33.266 on 7 df, p=0.00002\n"
     ]
    },
    {
     "data": {
      "text/plain": [
       "\"\\nn=432, number of events=114\\n\\n        coef  exp(coef)  se(coef)       z      p  lower 0.95  upper 0.95\\nfin  -0.3790     0.6845    0.1914 -1.9806 0.0476     -0.7542     -0.0039   *\\nage  -0.0572     0.9444    0.0220 -2.6042 0.0092     -0.1003     -0.0142  **\\nrace  0.3141     1.3691    0.3080  1.0198 0.3078     -0.2897      0.9180\\nwexp -0.1511     0.8597    0.2121 -0.7124 0.4762     -0.5670      0.2647\\nmar  -0.4328     0.6487    0.3818 -1.1335 0.2570     -1.1813      0.3157\\nparo -0.0850     0.9185    0.1957 -0.4341 0.6642     -0.4687      0.2988\\nprio  0.0911     1.0954    0.0286  3.1824 0.0015      0.0350      0.1472  **\\n---\\nSignif. codes:  0 '***' 0.001 '**' 0.01 '*' 0.05 '.' 0.1 ' ' 1\\n\\nConcordance = 0.640\\nLikelihood ratio test = 33.266 on 7 df, p=0.00002\\n\""
      ]
     },
     "execution_count": 6,
     "metadata": {},
     "output_type": "execute_result"
    }
   ],
   "source": [
    "cph = CoxPHFitter()\n",
    "cph.fit(rossi_dataset, duration_col='week', event_col='arrest', show_progress=True)\n",
    "\n",
    "cph.print_summary()  # access the results using cph.summary\n",
    "\n",
    "\"\"\"\n",
    "n=432, number of events=114\n",
    "\n",
    "        coef  exp(coef)  se(coef)       z      p  lower 0.95  upper 0.95\n",
    "fin  -0.3790     0.6845    0.1914 -1.9806 0.0476     -0.7542     -0.0039   *\n",
    "age  -0.0572     0.9444    0.0220 -2.6042 0.0092     -0.1003     -0.0142  **\n",
    "race  0.3141     1.3691    0.3080  1.0198 0.3078     -0.2897      0.9180\n",
    "wexp -0.1511     0.8597    0.2121 -0.7124 0.4762     -0.5670      0.2647\n",
    "mar  -0.4328     0.6487    0.3818 -1.1335 0.2570     -1.1813      0.3157\n",
    "paro -0.0850     0.9185    0.1957 -0.4341 0.6642     -0.4687      0.2988\n",
    "prio  0.0911     1.0954    0.0286  3.1824 0.0015      0.0350      0.1472  **\n",
    "---\n",
    "Signif. codes:  0 '***' 0.001 '**' 0.01 '*' 0.05 '.' 0.1 ' ' 1\n",
    "\n",
    "Concordance = 0.640\n",
    "Likelihood ratio test = 33.266 on 7 df, p=0.00002\n",
    "\"\"\""
   ]
  },
  {
   "cell_type": "code",
   "execution_count": 7,
   "metadata": {},
   "outputs": [
    {
     "data": {
      "text/plain": [
       "<matplotlib.axes._subplots.AxesSubplot at 0x7effb1328d68>"
      ]
     },
     "execution_count": 7,
     "metadata": {},
     "output_type": "execute_result"
    },
    {
     "data": {
      "image/png": "[encoded data removed]",
      "text/plain": [
       "<Figure size 432x288 with 1 Axes>"
      ]
     },
     "metadata": {},
     "output_type": "display_data"
    }
   ],
   "source": [
    "\n",
    "cph.plot_covariate_groups('prio', [0, 5, 10, 15])"
   ]
  },
  {
   "cell_type": "code",
   "execution_count": 10,
   "metadata": {},
   "outputs": [],
   "source": [
    "z11['BaseDateTime'] = pd.to_datetime(z11.reset_index()['BaseDateTime'])"
   ]
  },
  {
   "cell_type": "code",
   "execution_count": 71,
   "metadata": {},
   "outputs": [
    {
     "data": {
      "text/plain": [
       "array(['Overtaking', 'Crossing', 'Meeting'], dtype=object)"
      ]
     },
     "execution_count": 71,
     "metadata": {},
     "output_type": "execute_result"
    }
   ],
   "source": [
    "z11 = None\n",
    "colregs = pd.read_csv('Data/Example_COLREGs_Interactions_UTM11.csv')\n",
    "colregs['COLREG_Type'].unique()\n",
    "col"
   ]
  },
  {
   "cell_type": "code",
   "execution_count": 122,
   "metadata": {},
   "outputs": [
    {
     "name": "stdout",
     "output_type": "stream",
     "text": [
      "Data Loaded.  Time: 4.44\n",
      "<class 'pandas.core.frame.DataFrame'>\n",
      "Int64Index: 20585 entries, 372747000 to 566341000\n",
      "Data columns (total 4 columns):\n",
      "COLREG_Type     20585 non-null object\n",
      "BaseDateTime    20585 non-null datetime64[ns]\n",
      "Length          20585 non-null float64\n",
      "Width           20585 non-null float64\n",
      "dtypes: datetime64[ns](1), float64(2), object(1)\n",
      "memory usage: 804.1+ KB\n"
     ]
    }
   ],
   "source": [
    "def initialize_colreg_data(filepath):\n",
    "    start = time.time()\n",
    "    df = pd.read_csv(filepath)\n",
    "    df.drop(['Heading','COG','SOG','VesselName','IMO','CallSign','VesselType','Status','Draft','Cargo','LAT','LON'], axis=1, inplace=True)\n",
    "    df.set_index('MMSI',inplace=True)\n",
    "    df['Crossing'] = (df['COLREG_Type'] == 'Crossing')\n",
    "    df['BaseDateTime'] = pd.to_datetime(df['BaseDateTime'])\n",
    "    #df = df.groupby(['MMSI','BaseDateTime']).sum().reset_index()\n",
    "    end = time.time()\n",
    "    print('Data Loaded.  Time: '+str(round(end-start,2)))\n",
    "    return df\n",
    "\n",
    "colregs = initialize_data('Data/Example_COLREGs_Interactions_UTM11.csv')\n",
    "colregs.info()"
   ]
  },
  {
   "cell_type": "code",
   "execution_count": 123,
   "metadata": {},
   "outputs": [
    {
     "data": {
      "text/html": [
       "<div>\n",
       "<style scoped>\n",
       "    .dataframe tbody tr th:only-of-type {\n",
       "        vertical-align: middle;\n",
       "    }\n",
       "\n",
       "    .dataframe tbody tr th {\n",
       "        vertical-align: top;\n",
       "    }\n",
       "\n",
       "    .dataframe thead th {\n",
       "        text-align: right;\n",
       "    }\n",
       "</style>\n",
       "<table border=\"1\" class=\"dataframe\">\n",
       "  <thead>\n",
       "    <tr style=\"text-align: right;\">\n",
       "      <th></th>\n",
       "      <th>BaseDateTime</th>\n",
       "      <th>Length</th>\n",
       "      <th>Width</th>\n",
       "      <th>Crossing</th>\n",
       "    </tr>\n",
       "    <tr>\n",
       "      <th>MMSI</th>\n",
       "      <th></th>\n",
       "      <th></th>\n",
       "      <th></th>\n",
       "      <th></th>\n",
       "    </tr>\n",
       "  </thead>\n",
       "  <tbody>\n",
       "    <tr>\n",
       "      <th>372747000</th>\n",
       "      <td>2017-12-03 09:00:16</td>\n",
       "      <td>199.94</td>\n",
       "      <td>32.26</td>\n",
       "      <td>0</td>\n",
       "    </tr>\n",
       "    <tr>\n",
       "      <th>372747000</th>\n",
       "      <td>2017-12-03 09:00:36</td>\n",
       "      <td>199.94</td>\n",
       "      <td>32.26</td>\n",
       "      <td>0</td>\n",
       "    </tr>\n",
       "    <tr>\n",
       "      <th>372747000</th>\n",
       "      <td>2017-12-03 09:01:00</td>\n",
       "      <td>199.94</td>\n",
       "      <td>32.26</td>\n",
       "      <td>0</td>\n",
       "    </tr>\n",
       "    <tr>\n",
       "      <th>372747000</th>\n",
       "      <td>2017-12-03 09:01:20</td>\n",
       "      <td>199.94</td>\n",
       "      <td>32.26</td>\n",
       "      <td>0</td>\n",
       "    </tr>\n",
       "    <tr>\n",
       "      <th>372747000</th>\n",
       "      <td>2017-12-03 09:01:40</td>\n",
       "      <td>199.94</td>\n",
       "      <td>32.26</td>\n",
       "      <td>0</td>\n",
       "    </tr>\n",
       "  </tbody>\n",
       "</table>\n",
       "</div>"
      ],
      "text/plain": [
       "                 BaseDateTime  Length  Width  Crossing\n",
       "MMSI                                                  \n",
       "372747000 2017-12-03 09:00:16  199.94  32.26         0\n",
       "372747000 2017-12-03 09:00:36  199.94  32.26         0\n",
       "372747000 2017-12-03 09:01:00  199.94  32.26         0\n",
       "372747000 2017-12-03 09:01:20  199.94  32.26         0\n",
       "372747000 2017-12-03 09:01:40  199.94  32.26         0"
      ]
     },
     "execution_count": 123,
     "metadata": {},
     "output_type": "execute_result"
    }
   ],
   "source": [
    "colregs['Crossing'] = (colregs['COLREG_Type'] == 'Crossing')*1\n",
    "colregs.drop(['COLREG_Type'], axis=1, inplace=True)\n",
    "colregs.head()"
   ]
  },
  {
   "cell_type": "code",
   "execution_count": 124,
   "metadata": {},
   "outputs": [
    {
     "data": {
      "text/html": [
       "<div>\n",
       "<style scoped>\n",
       "    .dataframe tbody tr th:only-of-type {\n",
       "        vertical-align: middle;\n",
       "    }\n",
       "\n",
       "    .dataframe tbody tr th {\n",
       "        vertical-align: top;\n",
       "    }\n",
       "\n",
       "    .dataframe thead th {\n",
       "        text-align: right;\n",
       "    }\n",
       "</style>\n",
       "<table border=\"1\" class=\"dataframe\">\n",
       "  <thead>\n",
       "    <tr style=\"text-align: right;\">\n",
       "      <th></th>\n",
       "      <th>BaseDateTime_Rounded</th>\n",
       "      <th>Length</th>\n",
       "      <th>Width</th>\n",
       "      <th>Crossing</th>\n",
       "    </tr>\n",
       "    <tr>\n",
       "      <th>MMSI</th>\n",
       "      <th></th>\n",
       "      <th></th>\n",
       "      <th></th>\n",
       "      <th></th>\n",
       "    </tr>\n",
       "  </thead>\n",
       "  <tbody>\n",
       "    <tr>\n",
       "      <th>259739000</th>\n",
       "      <td>0</td>\n",
       "      <td>179.9</td>\n",
       "      <td>32.2</td>\n",
       "      <td>0</td>\n",
       "    </tr>\n",
       "    <tr>\n",
       "      <th>259739000</th>\n",
       "      <td>1</td>\n",
       "      <td>179.9</td>\n",
       "      <td>32.2</td>\n",
       "      <td>0</td>\n",
       "    </tr>\n",
       "    <tr>\n",
       "      <th>259739000</th>\n",
       "      <td>2</td>\n",
       "      <td>179.9</td>\n",
       "      <td>32.2</td>\n",
       "      <td>0</td>\n",
       "    </tr>\n",
       "    <tr>\n",
       "      <th>259739000</th>\n",
       "      <td>3</td>\n",
       "      <td>179.9</td>\n",
       "      <td>32.2</td>\n",
       "      <td>0</td>\n",
       "    </tr>\n",
       "    <tr>\n",
       "      <th>259739000</th>\n",
       "      <td>4</td>\n",
       "      <td>179.9</td>\n",
       "      <td>32.2</td>\n",
       "      <td>0</td>\n",
       "    </tr>\n",
       "  </tbody>\n",
       "</table>\n",
       "</div>"
      ],
      "text/plain": [
       "           BaseDateTime_Rounded  Length  Width  Crossing\n",
       "MMSI                                                    \n",
       "259739000                     0   179.9   32.2         0\n",
       "259739000                     1   179.9   32.2         0\n",
       "259739000                     2   179.9   32.2         0\n",
       "259739000                     3   179.9   32.2         0\n",
       "259739000                     4   179.9   32.2         0"
      ]
     },
     "execution_count": 124,
     "metadata": {},
     "output_type": "execute_result"
    }
   ],
   "source": [
    "colregs['BaseDateTime_Rounded'] = colregs['BaseDateTime'].dt.hour\n",
    "colregs.drop(['BaseDateTime'], axis=1, inplace=True)\n",
    "colregs = colregs.groupby(['MMSI','BaseDateTime_Rounded']).mean().reset_index()\n",
    "colregs.set_index('MMSI',inplace=True)\n",
    "colregs.head()"
   ]
  },
  {
   "cell_type": "code",
   "execution_count": 125,
   "metadata": {
    "scrolled": true
   },
   "outputs": [
    {
     "name": "stdout",
     "output_type": "stream",
     "text": [
      "Iteration 1: norm_delta = 0.12691, step_size = 0.10000, ll = -124.29137, seconds_since_start = 0.0\n",
      "Iteration 2: norm_delta = 0.13534, step_size = 0.10000, ll = -119.96660, seconds_since_start = 0.0\n",
      "Iteration 3: norm_delta = 0.13986, step_size = 0.10000, ll = -116.97513, seconds_since_start = 0.0\n",
      "Iteration 4: norm_delta = 0.13827, step_size = 0.09800, ll = -114.72879, seconds_since_start = 0.0\n",
      "Iteration 5: norm_delta = 0.13474, step_size = 0.09604, ll = -112.99971, seconds_since_start = 0.0\n",
      "Iteration 6: norm_delta = 0.15940, step_size = 0.11525, ll = -111.62685, seconds_since_start = 0.0\n",
      "Iteration 7: norm_delta = 0.15245, step_size = 0.11294, ll = -110.27919, seconds_since_start = 0.1\n",
      "Iteration 8: norm_delta = 0.14495, step_size = 0.11068, ll = -109.21455, seconds_since_start = 0.1\n",
      "Iteration 9: norm_delta = 0.16803, step_size = 0.13282, ll = -108.36073, seconds_since_start = 0.1\n",
      "Iteration 10: norm_delta = 0.15716, step_size = 0.13016, ll = -107.52373, seconds_since_start = 0.1\n",
      "Iteration 11: norm_delta = 0.14634, step_size = 0.12756, ll = -106.86808, seconds_since_start = 0.1\n",
      "Iteration 12: norm_delta = 0.16623, step_size = 0.15307, ll = -106.35036, seconds_since_start = 0.1\n",
      "Iteration 13: norm_delta = 0.15155, step_size = 0.15001, ll = -105.85415, seconds_since_start = 0.1\n",
      "Iteration 14: norm_delta = 0.13746, step_size = 0.14701, ll = -105.47723, seconds_since_start = 0.1\n",
      "Iteration 15: norm_delta = 0.15196, step_size = 0.17641, ll = -105.18991, seconds_since_start = 0.1\n",
      "Iteration 16: norm_delta = 0.13375, step_size = 0.17289, ll = -104.92562, seconds_since_start = 0.1\n",
      "Iteration 17: norm_delta = 0.11697, step_size = 0.16943, ll = -104.73505, seconds_since_start = 0.1\n",
      "Iteration 18: norm_delta = 0.12458, step_size = 0.20331, ll = -104.59761, seconds_since_start = 0.1\n",
      "Iteration 19: norm_delta = 0.10454, step_size = 0.19925, ll = -104.47857, seconds_since_start = 0.1\n",
      "Iteration 20: norm_delta = 0.08714, step_size = 0.19526, ll = -104.39891, seconds_since_start = 0.1\n",
      "Iteration 21: norm_delta = 0.08847, step_size = 0.23432, ll = -104.34565, seconds_since_start = 0.2\n",
      "Iteration 22: norm_delta = 0.06994, step_size = 0.22963, ll = -104.30305, seconds_since_start = 0.2\n",
      "Iteration 23: norm_delta = 0.05502, step_size = 0.22504, ll = -104.27716, seconds_since_start = 0.2\n",
      "Iteration 24: norm_delta = 0.05284, step_size = 0.27004, ll = -104.26140, seconds_since_start = 0.2\n",
      "Iteration 25: norm_delta = 0.04779, step_size = 0.32405, ll = -104.24996, seconds_since_start = 0.2\n",
      "Iteration 26: norm_delta = 0.03995, step_size = 0.38886, ll = -104.24262, seconds_since_start = 0.2\n",
      "Iteration 27: norm_delta = 0.03009, step_size = 0.46664, ll = -104.23862, seconds_since_start = 0.2\n",
      "Iteration 28: norm_delta = 0.01969, step_size = 0.55996, ll = -104.23686, seconds_since_start = 0.2\n",
      "Iteration 29: norm_delta = 0.01057, step_size = 0.67195, ll = -104.23628, seconds_since_start = 0.2\n",
      "Iteration 30: norm_delta = 0.00421, step_size = 0.80635, ll = -104.23616, seconds_since_start = 0.2\n",
      "Iteration 31: norm_delta = 0.00097, step_size = 0.95000, ll = -104.23614, seconds_since_start = 0.2\n",
      "Iteration 32: norm_delta = 0.00005, step_size = 0.95000, ll = -104.23614, seconds_since_start = 0.2\n",
      "Convergence completed after 32 iterations.\n"
     ]
    },
    {
     "data": {
      "text/plain": [
       "<lifelines.CoxPHFitter: fitted with 114 observations, 82 censored>"
      ]
     },
     "execution_count": 125,
     "metadata": {},
     "output_type": "execute_result"
    }
   ],
   "source": [
    "cph = CoxPHFitter()\n",
    "cph.fit(colregs, duration_col='BaseDateTime_Rounded', event_col='Crossing', step_size=0.1, show_progress=True)"
   ]
  },
  {
   "cell_type": "code",
   "execution_count": 151,
   "metadata": {},
   "outputs": [],
   "source": [
    "quantiles = colregs.quantile([0.25,0.5,0.75])\n",
    "w = round(quantiles.Width,0)\n",
    "l = round(quantiles.Length,0)\n"
   ]
  },
  {
   "cell_type": "code",
   "execution_count": 155,
   "metadata": {},
   "outputs": [
    {
     "data": {
      "text/plain": [
       "[30.0, 30.0, 30.0]"
      ]
     },
     "execution_count": 155,
     "metadata": {},
     "output_type": "execute_result"
    }
   ],
   "source": [
    "list(w)"
   ]
  },
  {
   "cell_type": "code",
   "execution_count": 157,
   "metadata": {},
   "outputs": [
    {
     "name": "stdout",
     "output_type": "stream",
     "text": [
      "n=114, number of events=32\n",
      "\n",
      "          coef  exp(coef)  se(coef)       z      p  lower 0.95  upper 0.95    \n",
      "Length  0.0584     1.0602    0.0179  3.2686 0.0011      0.0234      0.0935  **\n",
      "Width  -0.1942     0.8235    0.0799 -2.4295 0.0151     -0.3509     -0.0375   *\n",
      "---\n",
      "Signif. codes:  0 '***' 0.001 '**' 0.01 '*' 0.05 '.' 0.1 ' ' 1 \n",
      "\n",
      "Concordance = 0.741\n",
      "Likelihood ratio test = 40.110 on 2 df, p=0.00000\n"
     ]
    },
    {
     "data": {
      "text/plain": [
       "Text(0.5,1,'Hazard Functions by Length')"
      ]
     },
     "execution_count": 157,
     "metadata": {},
     "output_type": "execute_result"
    },
    {
     "data": {
      "image/png": "[encoded data removed]",
      "text/plain": [
       "<Figure size 432x288 with 1 Axes>"
      ]
     },
     "metadata": {},
     "output_type": "display_data"
    },
    {
     "data": {
      "image/png": "[encoded data removed]",
      "text/plain": [
       "<Figure size 432x288 with 1 Axes>"
      ]
     },
     "metadata": {},
     "output_type": "display_data"
    }
   ],
   "source": [
    "cph.print_summary()\n",
    "cph.plot_covariate_groups('Width', [20,30,40]).set_title('Hazard Functions by Width')\n",
    "cph.plot_covariate_groups('Length', list(l)).set_title('Hazard Functions by Length')"
   ]
  }
 ],
 "metadata": {
  "kernelspec": {
   "display_name": "Python 3",
   "language": "python",
   "name": "python3"
  },
  "language_info": {
   "codemirror_mode": {
    "name": "ipython",
    "version": 3
   },
   "file_extension": ".py",
   "mimetype": "text/x-python",
   "name": "python",
   "nbconvert_exporter": "python",
   "pygments_lexer": "ipython3",
   "version": "3.6.5"
  }
 },
 "nbformat": 4,
 "nbformat_minor": 2
}
